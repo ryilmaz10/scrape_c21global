{
 "cells": [
  {
   "cell_type": "code",
   "execution_count": 1,
   "metadata": {},
   "outputs": [],
   "source": [
    "# Importing related libraries\n",
    "\n",
    "from bs4 import BeautifulSoup as bs\n",
    "from IPython.display import clear_output\n",
    "from selenium import webdriver\n",
    "from selenium.webdriver.common.by import By\n",
    "from selenium.webdriver.chrome.service import Service\n",
    "import pandas as pd\n",
    "import numpy as np\n",
    "import re\n",
    "import time"
   ]
  },
  {
   "cell_type": "markdown",
   "metadata": {},
   "source": [
    "### Determination of House Links' Data"
   ]
  },
  {
   "cell_type": "code",
   "execution_count": 2,
   "metadata": {},
   "outputs": [],
   "source": [
    "with open('item.html', 'r', encoding='UTF8') as f:\n",
    "    item = f.read()\n",
    "\n",
    "text_html = bs(item, parser='html.parser')"
   ]
  },
  {
   "cell_type": "code",
   "execution_count": 3,
   "metadata": {},
   "outputs": [
    {
     "data": {
      "text/plain": [
       "'https://www.century21global.com/en/p/13123-sw-41st-pl-highway-ocala-florida-34481-usa--rl-133244110'"
      ]
     },
     "execution_count": 3,
     "metadata": {},
     "output_type": "execute_result"
    }
   ],
   "source": [
    "'https://www.century21global.com'+text_html.body.a['href']"
   ]
  },
  {
   "cell_type": "code",
   "execution_count": 4,
   "metadata": {},
   "outputs": [
    {
     "data": {
      "text/plain": [
       "'133244110'"
      ]
     },
     "execution_count": 4,
     "metadata": {},
     "output_type": "execute_result"
    }
   ],
   "source": [
    "text_html.body.a['href'].split('-')[-1]"
   ]
  },
  {
   "cell_type": "code",
   "execution_count": 10,
   "metadata": {},
   "outputs": [
    {
     "data": {
      "text/plain": [
       "'$33,000,000 USD'"
      ]
     },
     "execution_count": 10,
     "metadata": {},
     "output_type": "execute_result"
    }
   ],
   "source": [
    "text_html.a.div.div.div.next_sibling.div.next_sibling.next_sibling.text"
   ]
  },
  {
   "cell_type": "markdown",
   "metadata": {},
   "source": [
    "### Scraping House Links' Data"
   ]
  },
  {
   "cell_type": "code",
   "execution_count": 15,
   "metadata": {},
   "outputs": [
    {
     "name": "stdout",
     "output_type": "stream",
     "text": [
      "All process completed.\n"
     ]
    }
   ],
   "source": [
    "homes_for_sale_links = []\n",
    "total_pages = 201\n",
    "\n",
    "chrome_options = webdriver.ChromeOptions()\n",
    "chrome_options.add_argument('headless')\n",
    "driver_path = Service('<your_chromedriver_file_path>')\n",
    "\n",
    "driver = webdriver.Chrome(service=driver_path, options=chrome_options)\n",
    "\n",
    "for h in range(1, total_pages):\n",
    "\n",
    "    # The link text may be updated according to your filter\n",
    "    driver.get('https://www.century21global.com/en/l/homes-for-sale/usa?max=50&priceFrom=200000&'\\\n",
    "               'sort=PRICE&order=DESC&priceTo=1000000&bedrooms=1&bathrooms=1&propertySizeFrom=50&'\\\n",
    "                'propertySizeTo=300&page='+str(h))\n",
    "    time.sleep(np.random.randint(3, 6))\n",
    "\n",
    "    homes_raw = driver.find_elements(By.CSS_SELECTOR, 'div[class=\"col-lg-6 col-xl-4 ng-star-inserted\"]')\n",
    "\n",
    "    for home in homes_raw:\n",
    "\n",
    "        link_html = bs(home.get_attribute('innerHTML'), 'html.parser')\n",
    "\n",
    "        try:\n",
    "            home_id = link_html.a['href'].split('-')[-1]\n",
    "        except:\n",
    "            home_id = None\n",
    "\n",
    "        try:\n",
    "            price = link_html.a.div.div.div.next_sibling.div.next_sibling.next_sibling.text\n",
    "        except:\n",
    "            price = None\n",
    "\n",
    "        try:\n",
    "            link = 'https://www.century21global.com'+link_html.a['href']\n",
    "        except:\n",
    "            link = None\n",
    "    \n",
    "        homes_for_sale_links.append([home_id, price, link])\n",
    "        \n",
    "    \n",
    "    print(f'page {h} completed')\n",
    "    clear_output(wait=True)\n",
    "\n",
    "    # Saving data every 25 pages in case of any interruption. May be skipped\n",
    "    if h % 25 == 0:\n",
    "        df_links = pd.DataFrame(data=homes_for_sale_links, columns=['home_id', 'price', 'link'])\n",
    "        df_links.to_csv('your_links_file_name.csv', index=False)\n",
    "    else:\n",
    "        continue\n",
    "\n",
    "driver.close()\n",
    "\n",
    "# Saving whole data\n",
    "df_links = pd.DataFrame(data=homes_for_sale_links, columns=['home_id', 'price', 'link'])\n",
    "df_links.to_csv('your_links_file_name.csv', index=False)\n",
    "\n",
    "print(f'All process completed.')"
   ]
  },
  {
   "cell_type": "markdown",
   "metadata": {},
   "source": [
    "### Determination of Houses' Data"
   ]
  },
  {
   "cell_type": "code",
   "execution_count": 16,
   "metadata": {},
   "outputs": [],
   "source": [
    "with open('item2.html', 'r', encoding='UTF8') as f:\n",
    "    item = f.read()\n",
    "\n",
    "text_html2 = bs(item, parser='html.parser')"
   ]
  },
  {
   "cell_type": "code",
   "execution_count": 17,
   "metadata": {},
   "outputs": [
    {
     "data": {
      "text/plain": [
       "'Apr 3, 2024'"
      ]
     },
     "execution_count": 17,
     "metadata": {},
     "output_type": "execute_result"
    }
   ],
   "source": [
    "text_html2.div.h2.next_sibling.text.split(': ')[1]"
   ]
  },
  {
   "cell_type": "code",
   "execution_count": 110,
   "metadata": {},
   "outputs": [
    {
     "data": {
      "text/plain": [
       "'Apr 3, 2024'"
      ]
     },
     "execution_count": 110,
     "metadata": {},
     "output_type": "execute_result"
    }
   ],
   "source": [
    "text_html2.find('div', class_='mb-5 ng-star-inserted').text.split(': ')[1]"
   ]
  },
  {
   "cell_type": "code",
   "execution_count": 111,
   "metadata": {},
   "outputs": [],
   "source": [
    "address_elements = text_html2.find('h1', class_='mat-h4 mb-0 ng-star-inserted').contents"
   ]
  },
  {
   "cell_type": "code",
   "execution_count": 112,
   "metadata": {},
   "outputs": [
    {
     "data": {
      "text/plain": [
       "'Cape Coral, Florida, United States, 33904'"
      ]
     },
     "execution_count": 112,
     "metadata": {},
     "output_type": "execute_result"
    }
   ],
   "source": [
    "', '.join([a.text for a in address_elements[1].contents if a != ' '])"
   ]
  },
  {
   "cell_type": "code",
   "execution_count": 113,
   "metadata": {},
   "outputs": [
    {
     "data": {
      "text/plain": [
       "'5769 Riverside Drive'"
      ]
     },
     "execution_count": 113,
     "metadata": {},
     "output_type": "execute_result"
    }
   ],
   "source": [
    "address_elements[0].text"
   ]
  },
  {
   "cell_type": "code",
   "execution_count": 114,
   "metadata": {},
   "outputs": [
    {
     "data": {
      "text/plain": [
       "'5769 Riverside Drive, Cape Coral, Florida, United States, 33904'"
      ]
     },
     "execution_count": 114,
     "metadata": {},
     "output_type": "execute_result"
    }
   ],
   "source": [
    "address_elements[0].text+', '+', '.join([a.text for a in address_elements[1].contents if a != ' '])"
   ]
  },
  {
   "cell_type": "code",
   "execution_count": 115,
   "metadata": {},
   "outputs": [
    {
     "data": {
      "text/plain": [
       "'River, Fire Pit, Water View'"
      ]
     },
     "execution_count": 115,
     "metadata": {},
     "output_type": "execute_result"
    }
   ],
   "source": [
    "re.sub('\\n+', ', ', text_html2.find('div', class_='row data-list').text.strip().title())"
   ]
  },
  {
   "cell_type": "code",
   "execution_count": 116,
   "metadata": {},
   "outputs": [
    {
     "data": {
      "text/plain": [
       "' Area  Property Size  4,967Ft²  Land/Lot Size  11,761Ft²  (0.27Ac)  Bedrooms 5 Bathrooms  7  Cooling System  Central Air Conditioning-Electric  Central Ac '"
      ]
     },
     "execution_count": 116,
     "metadata": {},
     "output_type": "execute_result"
    }
   ],
   "source": [
    "text_html2.find_all('div', class_='mb-5 col-sm-6 col-md-4 ng-star-inserted')[2].text.title()"
   ]
  },
  {
   "cell_type": "code",
   "execution_count": 117,
   "metadata": {},
   "outputs": [
    {
     "data": {
      "text/plain": [
       "'2016'"
      ]
     },
     "execution_count": 117,
     "metadata": {},
     "output_type": "execute_result"
    }
   ],
   "source": [
    "re.findall('Year Built (\\d+) ', text_html2.find_all('div', class_='mb-5 col-sm-6 col-md-4 ng-star-inserted')[0].text.title())[0]"
   ]
  },
  {
   "cell_type": "code",
   "execution_count": 118,
   "metadata": {},
   "outputs": [
    {
     "data": {
      "text/plain": [
       "'4,967Ft²  Land/Lot Size  11,761'"
      ]
     },
     "execution_count": 118,
     "metadata": {},
     "output_type": "execute_result"
    }
   ],
   "source": [
    "re.findall('Size  (.*)Ft²', text_html2.find_all('div', class_='mb-5 col-sm-6 col-md-4 ng-star-inserted')[2].text.title())[0]"
   ]
  },
  {
   "cell_type": "code",
   "execution_count": 119,
   "metadata": {},
   "outputs": [
    {
     "data": {
      "text/plain": [
       "[<dt class=\"ng-star-inserted\"> Property size </dt>,\n",
       " <dt class=\"ng-star-inserted\"> Land/Lot size </dt>,\n",
       " <dt class=\"ng-star-inserted\"> Bedrooms </dt>,\n",
       " <dt class=\"ng-star-inserted\"> Bathrooms </dt>,\n",
       " <dt class=\"ng-star-inserted\"> Cooling system </dt>]"
      ]
     },
     "execution_count": 119,
     "metadata": {},
     "output_type": "execute_result"
    }
   ],
   "source": [
    "text_html2.find_all('div', class_='mb-5 col-sm-6 col-md-4 ng-star-inserted')[2].contents[1].find_all('dt')"
   ]
  },
  {
   "cell_type": "code",
   "execution_count": 120,
   "metadata": {},
   "outputs": [],
   "source": [
    "vert_dls = text_html2.find_all('div', class_='mb-5 col-sm-6 col-md-4 ng-star-inserted')\n",
    "\n",
    "keys = [item for items in vert_dls for item in items.contents[1].find_all('dt')]\n",
    "values = [item for items in vert_dls for item in items.contents[1].find_all('dd')]"
   ]
  },
  {
   "cell_type": "code",
   "execution_count": 121,
   "metadata": {},
   "outputs": [
    {
     "data": {
      "text/plain": [
       "[<dt class=\"ng-star-inserted\"> Year built </dt>,\n",
       " <dt class=\"ng-star-inserted\"> Roofing </dt>,\n",
       " <dt class=\"ng-star-inserted\"> Property features </dt>,\n",
       " <dt class=\"ng-star-inserted\"> Appliances </dt>,\n",
       " <dt class=\"ng-star-inserted\"> Property size </dt>,\n",
       " <dt class=\"ng-star-inserted\"> Land/Lot size </dt>,\n",
       " <dt class=\"ng-star-inserted\"> Bedrooms </dt>,\n",
       " <dt class=\"ng-star-inserted\"> Bathrooms </dt>,\n",
       " <dt class=\"ng-star-inserted\"> Cooling system </dt>]"
      ]
     },
     "execution_count": 121,
     "metadata": {},
     "output_type": "execute_result"
    }
   ],
   "source": [
    "keys"
   ]
  },
  {
   "cell_type": "code",
   "execution_count": 122,
   "metadata": {},
   "outputs": [
    {
     "data": {
      "text/plain": [
       "[<dd class=\"ng-star-inserted\">2016</dd>,\n",
       " <dd class=\"comma-separated-fragments ng-star-inserted\"><div class=\"fragment ng-star-inserted\"> metal </div><!-- --></dd>,\n",
       " <dd class=\"ng-star-inserted\"><div class=\"comma-separated-fragments\"><div class=\"fragment ng-star-inserted\"> Porch </div><div class=\"fragment ng-star-inserted\"> garage </div><div class=\"fragment ng-star-inserted\"> Balcony </div><div class=\"fragment ng-star-inserted\"> Deck </div><!-- --></div></dd>,\n",
       " <dd class=\"comma-separated-fragments ng-star-inserted\"><div class=\"fragment ng-star-inserted\"> Washer </div><div class=\"fragment ng-star-inserted\"> Double Oven </div><div class=\"fragment ng-star-inserted\"> Microwave </div><div class=\"fragment ng-star-inserted\"> Refrigerator </div><div class=\"fragment ng-star-inserted\"> Garbage Disposal </div><div class=\"fragment ng-star-inserted\"> Dryer </div><div class=\"fragment ng-star-inserted\"> Dishwasher </div><!-- --></dd>,\n",
       " <dd class=\"ng-star-inserted\"> 4,967ft² <!-- --><!-- --><!-- --><!-- --><!-- --></dd>,\n",
       " <dd class=\"ng-star-inserted\"> 11,761ft² <!-- --><!-- --><!-- --><small class=\"opacity-75 ng-star-inserted\"> (0.27ac) </small><!-- --><!-- --></dd>,\n",
       " <dd class=\"ng-star-inserted\">5</dd>,\n",
       " <dd class=\"ng-star-inserted\"><abbr title=\"5 Full baths, 2 Half baths\"> 7 </abbr></dd>,\n",
       " <dd class=\"comma-separated-fragments ng-star-inserted\"><div class=\"fragment ng-star-inserted\"> Central Air Conditioning-Electric </div><div class=\"fragment ng-star-inserted\"> Central AC </div><!-- --></dd>]"
      ]
     },
     "execution_count": 122,
     "metadata": {},
     "output_type": "execute_result"
    }
   ],
   "source": [
    "values"
   ]
  },
  {
   "cell_type": "code",
   "execution_count": 123,
   "metadata": {},
   "outputs": [
    {
     "data": {
      "text/plain": [
       "{'Year built': '2016', 'Roofing': 'metal'}"
      ]
     },
     "execution_count": 123,
     "metadata": {},
     "output_type": "execute_result"
    }
   ],
   "source": [
    "{k.text.strip(): v.text.strip() for k, v in zip(vert_dls[0].contents[1].find_all('dt'),\n",
    "                                                vert_dls[0].contents[1].find_all('dd'))}"
   ]
  },
  {
   "cell_type": "code",
   "execution_count": 124,
   "metadata": {},
   "outputs": [
    {
     "data": {
      "text/plain": [
       "{'Property features': 'Porch  garage  Balcony  Deck',\n",
       " 'Appliances': 'Washer  Double Oven  Microwave  Refrigerator  Garbage Disposal  Dryer  Dishwasher'}"
      ]
     },
     "execution_count": 124,
     "metadata": {},
     "output_type": "execute_result"
    }
   ],
   "source": [
    "{k.text.strip(): v.text.strip() for k, v in zip(vert_dls[1].contents[1].find_all('dt'),\n",
    "                                                vert_dls[1].contents[1].find_all('dd'))}"
   ]
  },
  {
   "cell_type": "code",
   "execution_count": 126,
   "metadata": {},
   "outputs": [
    {
     "data": {
      "text/plain": [
       "{'Property size': '4,967ft²',\n",
       " 'Land/Lot size': '11,761ft²  (0.27ac)',\n",
       " 'Bedrooms': '5',\n",
       " 'Bathrooms': '7',\n",
       " 'Cooling system': 'Central Air Conditioning-Electric  Central AC'}"
      ]
     },
     "execution_count": 126,
     "metadata": {},
     "output_type": "execute_result"
    }
   ],
   "source": [
    "{k.text.strip(): v.text.strip() for k, v in zip(vert_dls[2].contents[1].find_all('dt'),\n",
    "                                                vert_dls[2].contents[1].find_all('dd'))}"
   ]
  },
  {
   "cell_type": "code",
   "execution_count": 127,
   "metadata": {},
   "outputs": [
    {
     "data": {
      "text/plain": [
       "{'Year built': '2016',\n",
       " 'Roofing': 'metal',\n",
       " 'Property features': 'Porch  garage  Balcony  Deck',\n",
       " 'Appliances': 'Washer  Double Oven  Microwave  Refrigerator  Garbage Disposal  Dryer  Dishwasher',\n",
       " 'Property size': '4,967ft²',\n",
       " 'Land/Lot size': '11,761ft²  (0.27ac)',\n",
       " 'Bedrooms': '5',\n",
       " 'Bathrooms': '7',\n",
       " 'Cooling system': 'Central Air Conditioning-Electric  Central AC'}"
      ]
     },
     "execution_count": 127,
     "metadata": {},
     "output_type": "execute_result"
    }
   ],
   "source": [
    "{k.text.strip(): v.text.strip() for k, v in zip(keys, values)}"
   ]
  },
  {
   "cell_type": "code",
   "execution_count": 128,
   "metadata": {},
   "outputs": [
    {
     "data": {
      "text/plain": [
       "\"Luxury meets waterfront living in this 2-story contemporary masterpiece located in Cape Coral's coveted Yacht Club area. With almost 5000 sq ft of interior living space, this 5 bedrooms, 7 bathrooms, and a 3-car garage home offers unparalleled elegance and panoramic views of the Caloosahatchee River. Key features include a gourmet kitchen with an induction cooktop, a cappuccino maker, and a temperature-controlled wine room. The resort-style pool overlooks the river, providing the perfect setting for outdoor living. Boasting unique wall coverings, fixtures, and furnishings throughout, this fully furnished home is move-in ready. Enjoy sunrises and sunsets from the glass-walled great room or the outdoor seating area with a fire pit. Boating enthusiasts will appreciate the 20,000 lb covered boat lift, providing quick access to world-renowned beaches. With two master suites on the second level, a loft, and a workout area with a private balcony, this home is designed for luxurious living. Centrally located near restaurants, this property seamlessly combines luxury and convenience. Don't miss the chance to experience the epitome of Cape Coral's riverside lifestyle.\""
      ]
     },
     "execution_count": 128,
     "metadata": {},
     "output_type": "execute_result"
    }
   ],
   "source": [
    "text_html2.find('p', class_='opacity-75 ng-star-inserted').text"
   ]
  },
  {
   "cell_type": "markdown",
   "metadata": {},
   "source": [
    "### Scraping House' Data"
   ]
  },
  {
   "cell_type": "code",
   "execution_count": 129,
   "metadata": {},
   "outputs": [
    {
     "data": {
      "text/plain": [
       "0       https://www.century21global.com/en/p/3910-n-st...\n",
       "1       https://www.century21global.com/en/p/1569-238t...\n",
       "2       https://www.century21global.com/en/p/1569-238t...\n",
       "3       https://www.century21global.com/en/p/1848-tier...\n",
       "4       https://www.century21global.com/en/p/19633-est...\n",
       "                              ...                        \n",
       "9995    https://www.century21global.com/en/p/613-jacks...\n",
       "9996    https://www.century21global.com/en/p/16775-shr...\n",
       "9997    https://www.century21global.com/en/p/319-e-13t...\n",
       "9998    https://www.century21global.com/en/p/489-wolco...\n",
       "9999    https://www.century21global.com/en/p/751-labar...\n",
       "Name: link, Length: 10000, dtype: object"
      ]
     },
     "execution_count": 129,
     "metadata": {},
     "output_type": "execute_result"
    }
   ],
   "source": [
    "df_links = pd.read_csv('homes_for_sale_links.csv')\n",
    "\n",
    "df_links['link']"
   ]
  },
  {
   "cell_type": "code",
   "execution_count": 130,
   "metadata": {},
   "outputs": [
    {
     "data": {
      "text/plain": [
       "9870"
      ]
     },
     "execution_count": 130,
     "metadata": {},
     "output_type": "execute_result"
    }
   ],
   "source": [
    "df_links['home_id'].nunique()"
   ]
  },
  {
   "cell_type": "code",
   "execution_count": 141,
   "metadata": {},
   "outputs": [
    {
     "data": {
      "text/html": [
       "<div>\n",
       "<style scoped>\n",
       "    .dataframe tbody tr th:only-of-type {\n",
       "        vertical-align: middle;\n",
       "    }\n",
       "\n",
       "    .dataframe tbody tr th {\n",
       "        vertical-align: top;\n",
       "    }\n",
       "\n",
       "    .dataframe thead th {\n",
       "        text-align: right;\n",
       "    }\n",
       "</style>\n",
       "<table border=\"1\" class=\"dataframe\">\n",
       "  <thead>\n",
       "    <tr style=\"text-align: right;\">\n",
       "      <th></th>\n",
       "      <th>home_id</th>\n",
       "      <th>price</th>\n",
       "      <th>link</th>\n",
       "    </tr>\n",
       "  </thead>\n",
       "  <tbody>\n",
       "    <tr>\n",
       "      <th>0</th>\n",
       "      <td>132976751</td>\n",
       "      <td>$1,000,000 USD</td>\n",
       "      <td>https://www.century21global.com/en/p/3910-n-st...</td>\n",
       "    </tr>\n",
       "    <tr>\n",
       "      <th>1</th>\n",
       "      <td>133515366</td>\n",
       "      <td>$1,000,000 USD</td>\n",
       "      <td>https://www.century21global.com/en/p/1569-238t...</td>\n",
       "    </tr>\n",
       "    <tr>\n",
       "      <th>2</th>\n",
       "      <td>133515346</td>\n",
       "      <td>$1,000,000 USD</td>\n",
       "      <td>https://www.century21global.com/en/p/1569-238t...</td>\n",
       "    </tr>\n",
       "    <tr>\n",
       "      <th>3</th>\n",
       "      <td>133753203</td>\n",
       "      <td>$1,000,000 USD</td>\n",
       "      <td>https://www.century21global.com/en/p/1848-tier...</td>\n",
       "    </tr>\n",
       "    <tr>\n",
       "      <th>4</th>\n",
       "      <td>133724019</td>\n",
       "      <td>$1,000,000 USD</td>\n",
       "      <td>https://www.century21global.com/en/p/19633-est...</td>\n",
       "    </tr>\n",
       "    <tr>\n",
       "      <th>...</th>\n",
       "      <td>...</td>\n",
       "      <td>...</td>\n",
       "      <td>...</td>\n",
       "    </tr>\n",
       "    <tr>\n",
       "      <th>9865</th>\n",
       "      <td>133703887</td>\n",
       "      <td>$219,000 USD</td>\n",
       "      <td>https://www.century21global.com/en/p/613-jacks...</td>\n",
       "    </tr>\n",
       "    <tr>\n",
       "      <th>9866</th>\n",
       "      <td>128732081</td>\n",
       "      <td>$219,000 USD</td>\n",
       "      <td>https://www.century21global.com/en/p/16775-shr...</td>\n",
       "    </tr>\n",
       "    <tr>\n",
       "      <th>9867</th>\n",
       "      <td>133826856</td>\n",
       "      <td>$219,000 USD</td>\n",
       "      <td>https://www.century21global.com/en/p/319-e-13t...</td>\n",
       "    </tr>\n",
       "    <tr>\n",
       "      <th>9868</th>\n",
       "      <td>133783603</td>\n",
       "      <td>$219,000 USD</td>\n",
       "      <td>https://www.century21global.com/en/p/489-wolco...</td>\n",
       "    </tr>\n",
       "    <tr>\n",
       "      <th>9869</th>\n",
       "      <td>133501062</td>\n",
       "      <td>$219,000 USD</td>\n",
       "      <td>https://www.century21global.com/en/p/751-labar...</td>\n",
       "    </tr>\n",
       "  </tbody>\n",
       "</table>\n",
       "<p>9870 rows × 3 columns</p>\n",
       "</div>"
      ],
      "text/plain": [
       "        home_id           price   \n",
       "0     132976751  $1,000,000 USD  \\\n",
       "1     133515366  $1,000,000 USD   \n",
       "2     133515346  $1,000,000 USD   \n",
       "3     133753203  $1,000,000 USD   \n",
       "4     133724019  $1,000,000 USD   \n",
       "...         ...             ...   \n",
       "9865  133703887    $219,000 USD   \n",
       "9866  128732081    $219,000 USD   \n",
       "9867  133826856    $219,000 USD   \n",
       "9868  133783603    $219,000 USD   \n",
       "9869  133501062    $219,000 USD   \n",
       "\n",
       "                                                   link  \n",
       "0     https://www.century21global.com/en/p/3910-n-st...  \n",
       "1     https://www.century21global.com/en/p/1569-238t...  \n",
       "2     https://www.century21global.com/en/p/1569-238t...  \n",
       "3     https://www.century21global.com/en/p/1848-tier...  \n",
       "4     https://www.century21global.com/en/p/19633-est...  \n",
       "...                                                 ...  \n",
       "9865  https://www.century21global.com/en/p/613-jacks...  \n",
       "9866  https://www.century21global.com/en/p/16775-shr...  \n",
       "9867  https://www.century21global.com/en/p/319-e-13t...  \n",
       "9868  https://www.century21global.com/en/p/489-wolco...  \n",
       "9869  https://www.century21global.com/en/p/751-labar...  \n",
       "\n",
       "[9870 rows x 3 columns]"
      ]
     },
     "execution_count": 141,
     "metadata": {},
     "output_type": "execute_result"
    }
   ],
   "source": [
    "# Dropping dublicated links\n",
    "\n",
    "df_links.drop_duplicates(inplace=True, ignore_index=True)\n",
    "\n",
    "df_links"
   ]
  },
  {
   "cell_type": "code",
   "execution_count": 142,
   "metadata": {},
   "outputs": [
    {
     "name": "stdout",
     "output_type": "stream",
     "text": [
      "All process completed.\n"
     ]
    }
   ],
   "source": [
    "homes_for_sale = []\n",
    "\n",
    "chrome_options = webdriver.ChromeOptions()\n",
    "chrome_options.add_argument('headless')\n",
    "driver_path = Service('<your_chromedriver_file_path>')\n",
    "\n",
    "driver = webdriver.Chrome(service=driver_path, options=chrome_options)\n",
    "\n",
    "for idx, h in enumerate(df_links['link']):\n",
    "\n",
    "    driver.get(h)\n",
    "    time.sleep(np.random.randint(3, 5))\n",
    "    home_raw = driver.find_element(By.CSS_SELECTOR, 'div.main-content')\n",
    "\n",
    "    home_html = bs(home_raw.get_attribute('innerHTML'), 'html.parser')\n",
    "\n",
    "    home_id = df_links['home_id'][idx]\n",
    "\n",
    "    try:\n",
    "        date_updated = home_html.find('div', class_='mb-5 ng-star-inserted').text.split(': ')[1]\n",
    "    except:\n",
    "        date_updated = None\n",
    "\n",
    "    price = df_links['price'][idx]\n",
    "\n",
    "    try:\n",
    "        address_elements = home_html.find('h1', class_='mat-h4 mb-0 ng-star-inserted').contents\n",
    "        address = address_elements[0].text+', '+', '.join([a.text for a in address_elements[1].contents if a != ' '])\n",
    "    except:\n",
    "        address = None\n",
    "\n",
    "    try:\n",
    "        key_features = re.sub('\\n+', ', ', home_html.find('div', class_='row data-list').text.strip().title())\n",
    "    except:\n",
    "        key_features = None\n",
    "    \n",
    "    try:\n",
    "        vert_dls = home_html.find_all('div', class_='mb-5 col-sm-6 col-md-4 ng-star-inserted')\n",
    "        keys = [item for items in vert_dls for item in items.contents[1].find_all('dt')]\n",
    "        values = [item for items in vert_dls for item in items.contents[1].find_all('dd')]\n",
    "\n",
    "        features = {k.text.strip(): v.text.strip() for k, v in zip(keys, values)}\n",
    "    except:\n",
    "        features = None\n",
    "    \n",
    "    try:\n",
    "        desc = home_html.find('p', class_='opacity-75 ng-star-inserted').text\n",
    "    except:\n",
    "        desc = None\n",
    "\n",
    "    homes_for_sale.append([home_id, date_updated, price, address, key_features, features, desc])\n",
    "    \n",
    "    print(f'item {idx+1} completed')\n",
    "    clear_output(wait=True)\n",
    "\n",
    "    # Saving data every 500 houses in case of any interruption. May be skipped\n",
    "    if (idx+1) % 500 == 0:\n",
    "        df_homes = pd.DataFrame(data=homes_for_sale,\n",
    "                                columns=['home_id', 'date_updated',\n",
    "                                         'price', 'address',\n",
    "                                         'key_features', 'features', 'desc'])\n",
    "        df_homes.to_csv('your_homes_file_name.csv', index=False)\n",
    "    else:\n",
    "        continue\n",
    "\n",
    "driver.close()\n",
    "\n",
    "# Saving whole data\n",
    "df_homes = pd.DataFrame(data=homes_for_sale,\n",
    "                        columns=['home_id', 'date_updated',\n",
    "                                    'price', 'address',\n",
    "                                    'key_features', 'features', 'desc'])\n",
    "df_homes.to_csv('your_homes_file_name.csv', index=False)\n",
    "\n",
    "print(f'All process completed.')"
   ]
  },
  {
   "cell_type": "markdown",
   "metadata": {},
   "source": [
    "### Data cleansing is in cleaning.ipynb file"
   ]
  },
  {
   "cell_type": "code",
   "execution_count": null,
   "metadata": {},
   "outputs": [],
   "source": []
  }
 ],
 "metadata": {
  "kernelspec": {
   "display_name": "Python 3.8.13 ('ml_projects')",
   "language": "python",
   "name": "python3"
  },
  "language_info": {
   "codemirror_mode": {
    "name": "ipython",
    "version": 3
   },
   "file_extension": ".py",
   "mimetype": "text/x-python",
   "name": "python",
   "nbconvert_exporter": "python",
   "pygments_lexer": "ipython3",
   "version": "3.8.19"
  },
  "orig_nbformat": 4,
  "vscode": {
   "interpreter": {
    "hash": "15d16217f162c546d1bd8a829deaafbe9a4037257717eea36274db926f89b4f6"
   }
  }
 },
 "nbformat": 4,
 "nbformat_minor": 2
}
